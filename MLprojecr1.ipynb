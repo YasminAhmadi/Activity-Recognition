{
  "cells": [
    {
      "cell_type": "markdown",
      "source": [
        "import libraries"
      ],
      "metadata": {
        "id": "WtnROMN4hQ8r"
      }
    },
    {
      "cell_type": "code",
      "execution_count": 1,
      "metadata": {
        "id": "KFJbfAOmKNmC"
      },
      "outputs": [],
      "source": [
        "import numpy as np\n",
        "from numpy import mean\n",
        "from numpy import std\n",
        "from sklearn.datasets import make_classification\n",
        "from sklearn.model_selection import KFold\n",
        "from sklearn.model_selection import cross_val_score\n",
        "from sklearn.linear_model import LogisticRegression\n",
        "import numpy as np\n",
        "from sklearn.model_selection import KFold\n",
        "from sklearn.metrics import recall_score\n",
        "from sklearn import tree\n",
        "from sklearn.model_selection import cross_validate\n",
        "from sklearn.metrics import accuracy_score\n",
        "from sklearn.metrics import f1_score\n",
        "from sklearn.metrics import precision_score\n",
        "from sklearn.metrics import confusion_matrix\n",
        "from sklearn.ensemble import RandomForestClassifier\n",
        "from sklearn.datasets import make_classification"
      ]
    },
    {
      "cell_type": "markdown",
      "source": [
        "open data"
      ],
      "metadata": {
        "id": "Lx7v-NqPd-Yu"
      }
    },
    {
      "cell_type": "code",
      "execution_count": 2,
      "metadata": {
        "id": "qz5GTBiKKwoS"
      },
      "outputs": [],
      "source": [
        "with open('data.txt') as myFile:\n",
        "  text = myFile.read()\n",
        "result = text.split('\\n') \n"
      ]
    },
    {
      "cell_type": "markdown",
      "source": [
        "remove the last empty sample"
      ],
      "metadata": {
        "id": "eU8cDeC1eAuP"
      }
    },
    {
      "cell_type": "code",
      "execution_count": 3,
      "metadata": {
        "id": "Q3CAmCLILpi5"
      },
      "outputs": [],
      "source": [
        "result= result [0:-1]"
      ]
    },
    {
      "cell_type": "markdown",
      "source": [
        "Get data as float"
      ],
      "metadata": {
        "id": "fssdZCRYeCmI"
      }
    },
    {
      "cell_type": "code",
      "execution_count": 4,
      "metadata": {
        "id": "rouYpFTnClP8"
      },
      "outputs": [],
      "source": [
        "data=[]\n",
        "for i in result:\n",
        "  resultNew = i.split(',')  \n",
        "  temp = []\n",
        "  for j in resultNew:\n",
        "    temp.append(float(j))\n",
        "  data.append(temp)\n"
      ]
    },
    {
      "cell_type": "markdown",
      "source": [
        "Get labels"
      ],
      "metadata": {
        "id": "tyUf0jeLeFNH"
      }
    },
    {
      "cell_type": "code",
      "execution_count": 5,
      "metadata": {
        "id": "dpyaAZmuMuK8"
      },
      "outputs": [],
      "source": [
        "labels = []\n",
        "for i in range(len(data)):\n",
        "  labels.append(data[i][-1])\n",
        "  data[i] = data[i][0:-1]\n",
        "  \n",
        "data = np.array(data)\n",
        "labels = np.array(labels)\n"
      ]
    },
    {
      "cell_type": "code",
      "source": [
        "targets = ['1','2','3','4']"
      ],
      "metadata": {
        "id": "9iFsU1hmfkiN"
      },
      "execution_count": 6,
      "outputs": []
    },
    {
      "cell_type": "markdown",
      "source": [
        "Number of Instances"
      ],
      "metadata": {
        "id": "_myzIgF7djwS"
      }
    },
    {
      "cell_type": "code",
      "source": [
        "len(data)"
      ],
      "metadata": {
        "colab": {
          "base_uri": "https://localhost:8080/"
        },
        "id": "HayuH_ge2jOH",
        "outputId": "580a4ed7-d29b-4fd5-bb91-4dd8ee9ea8fe"
      },
      "execution_count": 7,
      "outputs": [
        {
          "output_type": "execute_result",
          "data": {
            "text/plain": [
              "4480"
            ]
          },
          "metadata": {},
          "execution_count": 7
        }
      ]
    },
    {
      "cell_type": "markdown",
      "source": [
        "Number of Attributes (533) + Class (1)"
      ],
      "metadata": {
        "id": "wlHn5L_TdriI"
      }
    },
    {
      "cell_type": "code",
      "source": [
        "len(data[0])"
      ],
      "metadata": {
        "colab": {
          "base_uri": "https://localhost:8080/"
        },
        "id": "LVcmTrUz2k6c",
        "outputId": "8c60526c-261a-40c2-c486-afb571d33be7"
      },
      "execution_count": 8,
      "outputs": [
        {
          "output_type": "execute_result",
          "data": {
            "text/plain": [
              "534"
            ]
          },
          "metadata": {},
          "execution_count": 8
        }
      ]
    },
    {
      "cell_type": "code",
      "source": [
        "from matplotlib import pyplot as plt\n",
        "def plot_confusion_matrix(cm, classes, normalize=False, title='Confusion matrix',cmap=plt.cm.Blues):\n",
        "    plt.imshow(cm, interpolation='nearest', cmap=cmap)\n",
        "    plt.title(title)\n",
        "    plt.colorbar()\n",
        "    tick_marks = np.arange(len(classes))\n",
        "    plt.xticks(tick_marks, classes, rotation=45)\n",
        "    plt.yticks(tick_marks, classes)\n",
        "\n",
        "    fmt = '.2f' if normalize else 'd'\n",
        "    thresh = cm.max() / 2.\n",
        "    for i in range (cm.shape[0]):\n",
        "          for j in range (cm.shape[1]):\n",
        "                 plt.text(j, i, cm[i, j],\n",
        "                 horizontalalignment=\"center\",\n",
        "                 color=\"white\" if cm[i, j] > thresh else \"black\")\n",
        "\n",
        "    plt.tight_layout()\n",
        "    plt.ylabel('True label')\n",
        "    plt.xlabel('Predicted label')"
      ],
      "metadata": {
        "id": "C_kgNH1g_vKa"
      },
      "execution_count": 9,
      "outputs": []
    },
    {
      "cell_type": "markdown",
      "metadata": {
        "id": "VDoUe_Z_LsAe"
      },
      "source": [
        "Decision tree"
      ]
    },
    {
      "cell_type": "code",
      "execution_count": 10,
      "metadata": {
        "id": "uWiS_YhTToBj"
      },
      "outputs": [],
      "source": [
        "kf = KFold(n_splits=5)\n",
        "accuracy_dt = []\n",
        "f1_dt = []\n",
        "precision_dt = []\n",
        "recall_dt = []\n",
        "confusionMatrix_dt = []\n",
        "\n",
        "for train, test in kf.split(data):\n",
        "    X_train, X_test = data[train], data[test]\n",
        "    y_train, y_test = labels[train], labels[test]\n",
        "\n",
        "    clf = tree.DecisionTreeClassifier(criterion='entropy', max_depth=6, random_state=42)\n",
        "    clf = clf.fit(X_train, y_train)\n",
        "\n",
        "    accuracy_dt.append(accuracy_score(y_test, clf.predict(X_test)))\n",
        "    f1_dt.append(f1_score(y_test, clf.predict(X_test), average = None))\n",
        "    precision_dt.append(precision_score(y_test, clf.predict(X_test), average = None))\n",
        "    recall_dt.append(recall_score(y_test, clf.predict(X_test), average=\"macro\"))\n",
        "    confusionMatrix_dt.append(confusion_matrix(y_test, clf.predict(X_test)))"
      ]
    },
    {
      "cell_type": "code",
      "source": [
        "mean(accuracy_dt)"
      ],
      "metadata": {
        "colab": {
          "base_uri": "https://localhost:8080/"
        },
        "id": "GjBmEb4T3A8R",
        "outputId": "01355b36-59ce-435c-c74a-d946178aa669"
      },
      "execution_count": 11,
      "outputs": [
        {
          "output_type": "execute_result",
          "data": {
            "text/plain": [
              "0.6908482142857143"
            ]
          },
          "metadata": {},
          "execution_count": 11
        }
      ]
    },
    {
      "cell_type": "code",
      "source": [
        "mean(f1_dt)"
      ],
      "metadata": {
        "colab": {
          "base_uri": "https://localhost:8080/"
        },
        "id": "K1O6U1JKBd1O",
        "outputId": "a36bc682-c0ee-476b-d338-693561f0f003"
      },
      "execution_count": 12,
      "outputs": [
        {
          "output_type": "execute_result",
          "data": {
            "text/plain": [
              "0.678409838750908"
            ]
          },
          "metadata": {},
          "execution_count": 12
        }
      ]
    },
    {
      "cell_type": "code",
      "source": [
        "mean(precision_dt)"
      ],
      "metadata": {
        "colab": {
          "base_uri": "https://localhost:8080/"
        },
        "id": "1IEcYrDrBfww",
        "outputId": "81037500-0728-4e14-c0f7-3808e686bff2"
      },
      "execution_count": 13,
      "outputs": [
        {
          "output_type": "execute_result",
          "data": {
            "text/plain": [
              "0.6974070852425109"
            ]
          },
          "metadata": {},
          "execution_count": 13
        }
      ]
    },
    {
      "cell_type": "code",
      "source": [
        "mean(recall_dt)"
      ],
      "metadata": {
        "colab": {
          "base_uri": "https://localhost:8080/"
        },
        "id": "H8LlupV5CaZo",
        "outputId": "3e0669e6-c66b-4a05-a9f7-658749aba19d"
      },
      "execution_count": 14,
      "outputs": [
        {
          "output_type": "execute_result",
          "data": {
            "text/plain": [
              "0.6908482142857143"
            ]
          },
          "metadata": {},
          "execution_count": 14
        }
      ]
    },
    {
      "cell_type": "code",
      "source": [
        "plot_confusion_matrix(np.mean(confusionMatrix_dt, axis = 0), targets)"
      ],
      "metadata": {
        "colab": {
          "base_uri": "https://localhost:8080/",
          "height": 311
        },
        "id": "UcgAMzXBD83I",
        "outputId": "7b62c821-b876-4adc-bc9d-7b817a1ee9a8"
      },
      "execution_count": 15,
      "outputs": [
        {
          "output_type": "display_data",
          "data": {
            "text/plain": [
              "<Figure size 432x288 with 2 Axes>"
            ],
            "image/png": "[encoded data removed]"
          },
          "metadata": {
            "needs_background": "light"
          }
        }
      ]
    },
    {
      "cell_type": "markdown",
      "metadata": {
        "id": "1tOJqRovLtf6"
      },
      "source": [
        "Random Forest"
      ]
    },
    {
      "cell_type": "code",
      "execution_count": 16,
      "metadata": {
        "id": "tubXuttjgO0F"
      },
      "outputs": [],
      "source": [
        "kf = KFold(n_splits=5)\n",
        "accuracy_RF = []\n",
        "f1_RF = []\n",
        "precision_RF = []\n",
        "recall_RF = []\n",
        "confusionMatrix_RF = []\n",
        "\n",
        "for train, test in kf.split(data):\n",
        "    X_train, X_test = data[train], data[test]\n",
        "    y_train, y_test = labels[train], labels[test]\n",
        "\n",
        "    clf = RandomForestClassifier(n_estimators=200, max_depth=5, random_state=42)\n",
        "    clf.fit(X_train, y_train)\n",
        "\n",
        "    accuracy_RF.append(accuracy_score(y_test, clf.predict(X_test)))\n",
        "    f1_RF.append(f1_score(y_test, clf.predict(X_test), average = None))\n",
        "    precision_RF.append(precision_score(y_test, clf.predict(X_test), average = None))\n",
        "    recall_RF.append(recall_score(y_test, clf.predict(X_test), average=\"macro\"))\n",
        "    confusionMatrix_RF.append(confusion_matrix(y_test, clf.predict(X_test)))"
      ]
    },
    {
      "cell_type": "code",
      "source": [
        "mean(accuracy_RF)"
      ],
      "metadata": {
        "colab": {
          "base_uri": "https://localhost:8080/"
        },
        "id": "uGYNFrhgHPNX",
        "outputId": "bb813af0-d500-47e4-8988-3856641fa95e"
      },
      "execution_count": 17,
      "outputs": [
        {
          "output_type": "execute_result",
          "data": {
            "text/plain": [
              "0.7435267857142858"
            ]
          },
          "metadata": {},
          "execution_count": 17
        }
      ]
    },
    {
      "cell_type": "code",
      "source": [
        "mean(f1_RF)"
      ],
      "metadata": {
        "colab": {
          "base_uri": "https://localhost:8080/"
        },
        "id": "SvYm2FDXHRTG",
        "outputId": "8b0f18f5-9065-4169-a77b-44244001d51b"
      },
      "execution_count": 18,
      "outputs": [
        {
          "output_type": "execute_result",
          "data": {
            "text/plain": [
              "0.7408191623261469"
            ]
          },
          "metadata": {},
          "execution_count": 18
        }
      ]
    },
    {
      "cell_type": "code",
      "source": [
        "mean(precision_RF)"
      ],
      "metadata": {
        "colab": {
          "base_uri": "https://localhost:8080/"
        },
        "id": "jFAxpzcxHU4P",
        "outputId": "c99b613e-316d-4d6c-c2f7-fc83969edcf7"
      },
      "execution_count": 19,
      "outputs": [
        {
          "output_type": "execute_result",
          "data": {
            "text/plain": [
              "0.7507080416875747"
            ]
          },
          "metadata": {},
          "execution_count": 19
        }
      ]
    },
    {
      "cell_type": "code",
      "source": [
        "mean(recall_RF)"
      ],
      "metadata": {
        "colab": {
          "base_uri": "https://localhost:8080/"
        },
        "id": "NpMCVzI_HW3u",
        "outputId": "a6e6ab91-ef5b-44a9-afd3-e17b237ef2ea"
      },
      "execution_count": 20,
      "outputs": [
        {
          "output_type": "execute_result",
          "data": {
            "text/plain": [
              "0.7435267857142858"
            ]
          },
          "metadata": {},
          "execution_count": 20
        }
      ]
    },
    {
      "cell_type": "code",
      "source": [
        "plot_confusion_matrix(np.mean(confusionMatrix_RF, axis = 0), targets)"
      ],
      "metadata": {
        "colab": {
          "base_uri": "https://localhost:8080/",
          "height": 311
        },
        "id": "W1ZivoODHX_6",
        "outputId": "2dd7261d-9610-4578-96da-60e770315f3d"
      },
      "execution_count": 21,
      "outputs": [
        {
          "output_type": "display_data",
          "data": {
            "text/plain": [
              "<Figure size 432x288 with 2 Axes>"
            ],
            "image/png": "[encoded data removed]"
          },
          "metadata": {
            "needs_background": "light"
          }
        }
      ]
    },
    {
      "cell_type": "markdown",
      "metadata": {
        "id": "vONDjIm4LtdW"
      },
      "source": [
        "XGBoost"
      ]
    },
    {
      "cell_type": "code",
      "source": [
        "from sklearn.datasets import make_hastie_10_2\n",
        "from sklearn.ensemble import GradientBoostingClassifier\n",
        "\n",
        "kf = KFold(n_splits=5)\n",
        "accuracy_XG = []\n",
        "f1_XG = []\n",
        "precision_XG = []\n",
        "recall_XG = []\n",
        "confusionMatrix_XG = []\n",
        "\n",
        "for train, test in kf.split(data):\n",
        "    X_train, X_test = data[train], data[test]\n",
        "    y_train, y_test = labels[train], labels[test]\n",
        "\n",
        "    clf = GradientBoostingClassifier(n_estimators=100, learning_rate=0.1, max_depth=1)\n",
        "    clf.fit(X_train, y_train)\n",
        "\n",
        "    accuracy_XG.append(accuracy_score(y_test, clf.predict(X_test)))\n",
        "    f1_XG.append(f1_score(y_test, clf.predict(X_test), average = None))\n",
        "    precision_XG.append(precision_score(y_test, clf.predict(X_test), average = None))\n",
        "    recall_XG.append(recall_score(y_test, clf.predict(X_test), average=\"macro\"))\n",
        "    confusionMatrix_XG.append(confusion_matrix(y_test, clf.predict(X_test)))"
      ],
      "metadata": {
        "id": "sfHjDY3ISqMi"
      },
      "execution_count": 22,
      "outputs": []
    },
    {
      "cell_type": "code",
      "source": [
        "mean(accuracy_XG)"
      ],
      "metadata": {
        "colab": {
          "base_uri": "https://localhost:8080/"
        },
        "id": "014cp0bpQ0EL",
        "outputId": "ac861115-ef56-4727-85be-f6e34aa4d158"
      },
      "execution_count": 23,
      "outputs": [
        {
          "output_type": "execute_result",
          "data": {
            "text/plain": [
              "0.7435267857142858"
            ]
          },
          "metadata": {},
          "execution_count": 23
        }
      ]
    },
    {
      "cell_type": "code",
      "source": [
        "mean(f1_XG)"
      ],
      "metadata": {
        "colab": {
          "base_uri": "https://localhost:8080/"
        },
        "id": "bnqfkxz6Q1rx",
        "outputId": "5379fa86-8cb9-4691-b478-d659f5976c4d"
      },
      "execution_count": 24,
      "outputs": [
        {
          "output_type": "execute_result",
          "data": {
            "text/plain": [
              "0.7403294585277551"
            ]
          },
          "metadata": {},
          "execution_count": 24
        }
      ]
    },
    {
      "cell_type": "code",
      "source": [
        "mean(precision_XG)"
      ],
      "metadata": {
        "colab": {
          "base_uri": "https://localhost:8080/"
        },
        "id": "43S6nwJpQ1yO",
        "outputId": "258fcd7e-c104-4206-edcf-50c74ea2b84d"
      },
      "execution_count": 25,
      "outputs": [
        {
          "output_type": "execute_result",
          "data": {
            "text/plain": [
              "0.7555757650379884"
            ]
          },
          "metadata": {},
          "execution_count": 25
        }
      ]
    },
    {
      "cell_type": "code",
      "source": [
        "mean(recall_XG)"
      ],
      "metadata": {
        "colab": {
          "base_uri": "https://localhost:8080/"
        },
        "id": "ngVbrtQ9Q104",
        "outputId": "c066e31c-4108-4707-e1f0-5e1e89baa235"
      },
      "execution_count": 26,
      "outputs": [
        {
          "output_type": "execute_result",
          "data": {
            "text/plain": [
              "0.7435267857142858"
            ]
          },
          "metadata": {},
          "execution_count": 26
        }
      ]
    },
    {
      "cell_type": "code",
      "source": [
        "plot_confusion_matrix(np.mean(confusionMatrix_XG, axis = 0), targets)"
      ],
      "metadata": {
        "colab": {
          "base_uri": "https://localhost:8080/",
          "height": 311
        },
        "id": "fS7zTuQ6Q13h",
        "outputId": "eecbd454-080b-4914-9656-e169be77325c"
      },
      "execution_count": 27,
      "outputs": [
        {
          "output_type": "display_data",
          "data": {
            "text/plain": [
              "<Figure size 432x288 with 2 Axes>"
            ],
            "image/png": "[encoded data removed]"
          },
          "metadata": {
            "needs_background": "light"
          }
        }
      ]
    },
    {
      "cell_type": "markdown",
      "metadata": {
        "id": "XQ06q-9TLtaq"
      },
      "source": [
        "SVM"
      ]
    },
    {
      "cell_type": "code",
      "source": [
        "import numpy as np\n",
        "from sklearn.pipeline import make_pipeline\n",
        "from sklearn.preprocessing import StandardScaler\n",
        "from sklearn.svm import SVC\n",
        "\n",
        "\n",
        "kf = KFold(n_splits=5)\n",
        "accuracy_SVM = []\n",
        "f1_SVM = []\n",
        "precision_SVM = []\n",
        "recall_SVM = []\n",
        "confusionMatrix_SVM = []\n",
        "\n",
        "for train, test in kf.split(data):\n",
        "    X_train, X_test = data[train], data[test]\n",
        "    y_train, y_test = labels[train], labels[test]\n",
        "\n",
        "    clf = make_pipeline(StandardScaler(), SVC(gamma='auto'))\n",
        "    clf = clf.fit(X_train, y_train)\n",
        "\n",
        "    accuracy_SVM.append(accuracy_score(y_test, clf.predict(X_test)))\n",
        "    f1_SVM.append(f1_score(y_test, clf.predict(X_test), average = None))\n",
        "    precision_SVM.append(precision_score(y_test, clf.predict(X_test), average = None))\n",
        "    recall_SVM.append(recall_score(y_test, clf.predict(X_test), average=\"macro\"))\n",
        "    confusionMatrix_SVM.append(confusion_matrix(y_test, clf.predict(X_test)))"
      ],
      "metadata": {
        "id": "ewiygBhOfnKz"
      },
      "execution_count": 28,
      "outputs": []
    },
    {
      "cell_type": "code",
      "source": [
        "mean(accuracy_SVM)"
      ],
      "metadata": {
        "id": "550C-BRdgbCq",
        "colab": {
          "base_uri": "https://localhost:8080/"
        },
        "outputId": "0feff1ec-c054-44d1-881e-447ee5be69ed"
      },
      "execution_count": 29,
      "outputs": [
        {
          "output_type": "execute_result",
          "data": {
            "text/plain": [
              "0.7207589285714285"
            ]
          },
          "metadata": {},
          "execution_count": 29
        }
      ]
    },
    {
      "cell_type": "code",
      "source": [
        "mean(f1_SVM)"
      ],
      "metadata": {
        "colab": {
          "base_uri": "https://localhost:8080/"
        },
        "id": "MXQe_QSpfRhr",
        "outputId": "e9bb7420-bfdf-41f7-8b32-0c0b3d2e2628"
      },
      "execution_count": 30,
      "outputs": [
        {
          "output_type": "execute_result",
          "data": {
            "text/plain": [
              "0.7138658841962213"
            ]
          },
          "metadata": {},
          "execution_count": 30
        }
      ]
    },
    {
      "cell_type": "code",
      "source": [
        "mean(precision_SVM)"
      ],
      "metadata": {
        "colab": {
          "base_uri": "https://localhost:8080/"
        },
        "id": "knRXvV17fRkO",
        "outputId": "5b488a4d-3014-4dc7-daba-6ac1f157a101"
      },
      "execution_count": 31,
      "outputs": [
        {
          "output_type": "execute_result",
          "data": {
            "text/plain": [
              "0.7242036594886424"
            ]
          },
          "metadata": {},
          "execution_count": 31
        }
      ]
    },
    {
      "cell_type": "code",
      "source": [
        "mean(recall_SVM)"
      ],
      "metadata": {
        "colab": {
          "base_uri": "https://localhost:8080/"
        },
        "id": "1xjQNu2ZfRmX",
        "outputId": "abff7e98-439e-47a7-bea0-5e823a601635"
      },
      "execution_count": 32,
      "outputs": [
        {
          "output_type": "execute_result",
          "data": {
            "text/plain": [
              "0.7207589285714285"
            ]
          },
          "metadata": {},
          "execution_count": 32
        }
      ]
    },
    {
      "cell_type": "code",
      "source": [
        "  plot_confusion_matrix(np.mean(confusionMatrix_SVM, axis = 0), targets)"
      ],
      "metadata": {
        "colab": {
          "base_uri": "https://localhost:8080/",
          "height": 311
        },
        "id": "DP_6wD3-fRpK",
        "outputId": "920d9509-8de8-4ab5-9877-733b6b453166"
      },
      "execution_count": 33,
      "outputs": [
        {
          "output_type": "display_data",
          "data": {
            "text/plain": [
              "<Figure size 432x288 with 2 Axes>"
            ],
            "image/png": "[encoded data removed]"
          },
          "metadata": {
            "needs_background": "light"
          }
        }
      ]
    }
  ],
  "metadata": {
    "colab": {
      "provenance": []
    },
    "kernelspec": {
      "display_name": "Python 3",
      "name": "python3"
    },
    "language_info": {
      "name": "python"
    }
  },
  "nbformat": 4,
  "nbformat_minor": 0
}